{
 "cells": [
  {
   "cell_type": "code",
   "execution_count": 1,
   "metadata": {},
   "outputs": [],
   "source": [
    "import numpy as np\n",
    "import matplotlib.pylab as plt\n",
    "import pandas as pd"
   ]
  },
  {
   "cell_type": "code",
   "execution_count": 2,
   "metadata": {},
   "outputs": [
    {
     "data": {
      "text/html": [
       "<div>\n",
       "<style scoped>\n",
       "    .dataframe tbody tr th:only-of-type {\n",
       "        vertical-align: middle;\n",
       "    }\n",
       "\n",
       "    .dataframe tbody tr th {\n",
       "        vertical-align: top;\n",
       "    }\n",
       "\n",
       "    .dataframe thead th {\n",
       "        text-align: right;\n",
       "    }\n",
       "</style>\n",
       "<table border=\"1\" class=\"dataframe\">\n",
       "  <thead>\n",
       "    <tr style=\"text-align: right;\">\n",
       "      <th></th>\n",
       "      <th>0</th>\n",
       "      <th>1</th>\n",
       "      <th>2</th>\n",
       "      <th>3</th>\n",
       "      <th>4</th>\n",
       "      <th>5</th>\n",
       "      <th>6</th>\n",
       "      <th>7</th>\n",
       "      <th>8</th>\n",
       "      <th>9</th>\n",
       "      <th>...</th>\n",
       "      <th>114</th>\n",
       "      <th>115</th>\n",
       "      <th>116</th>\n",
       "      <th>117</th>\n",
       "      <th>118</th>\n",
       "      <th>119</th>\n",
       "      <th>120</th>\n",
       "      <th>121</th>\n",
       "      <th>122</th>\n",
       "      <th>123</th>\n",
       "    </tr>\n",
       "  </thead>\n",
       "  <tbody>\n",
       "    <tr>\n",
       "      <th>0</th>\n",
       "      <td>1</td>\n",
       "      <td>77</td>\n",
       "      <td>1</td>\n",
       "      <td>2</td>\n",
       "      <td>1</td>\n",
       "      <td>1</td>\n",
       "      <td>2</td>\n",
       "      <td>?</td>\n",
       "      <td>3</td>\n",
       "      <td>0</td>\n",
       "      <td>...</td>\n",
       "      <td>0</td>\n",
       "      <td>0</td>\n",
       "      <td>0</td>\n",
       "      <td>0</td>\n",
       "      <td>0</td>\n",
       "      <td>0</td>\n",
       "      <td>0</td>\n",
       "      <td>0</td>\n",
       "      <td>0</td>\n",
       "      <td>0</td>\n",
       "    </tr>\n",
       "    <tr>\n",
       "      <th>1</th>\n",
       "      <td>2</td>\n",
       "      <td>55</td>\n",
       "      <td>1</td>\n",
       "      <td>1</td>\n",
       "      <td>0</td>\n",
       "      <td>0</td>\n",
       "      <td>0</td>\n",
       "      <td>0</td>\n",
       "      <td>0</td>\n",
       "      <td>0</td>\n",
       "      <td>...</td>\n",
       "      <td>0</td>\n",
       "      <td>0</td>\n",
       "      <td>0</td>\n",
       "      <td>0</td>\n",
       "      <td>0</td>\n",
       "      <td>0</td>\n",
       "      <td>0</td>\n",
       "      <td>0</td>\n",
       "      <td>0</td>\n",
       "      <td>0</td>\n",
       "    </tr>\n",
       "    <tr>\n",
       "      <th>2</th>\n",
       "      <td>3</td>\n",
       "      <td>52</td>\n",
       "      <td>1</td>\n",
       "      <td>0</td>\n",
       "      <td>0</td>\n",
       "      <td>0</td>\n",
       "      <td>2</td>\n",
       "      <td>?</td>\n",
       "      <td>2</td>\n",
       "      <td>0</td>\n",
       "      <td>...</td>\n",
       "      <td>0</td>\n",
       "      <td>0</td>\n",
       "      <td>0</td>\n",
       "      <td>0</td>\n",
       "      <td>0</td>\n",
       "      <td>0</td>\n",
       "      <td>0</td>\n",
       "      <td>0</td>\n",
       "      <td>0</td>\n",
       "      <td>0</td>\n",
       "    </tr>\n",
       "    <tr>\n",
       "      <th>3</th>\n",
       "      <td>4</td>\n",
       "      <td>68</td>\n",
       "      <td>0</td>\n",
       "      <td>0</td>\n",
       "      <td>0</td>\n",
       "      <td>0</td>\n",
       "      <td>2</td>\n",
       "      <td>?</td>\n",
       "      <td>2</td>\n",
       "      <td>0</td>\n",
       "      <td>...</td>\n",
       "      <td>0</td>\n",
       "      <td>0</td>\n",
       "      <td>0</td>\n",
       "      <td>0</td>\n",
       "      <td>0</td>\n",
       "      <td>0</td>\n",
       "      <td>1</td>\n",
       "      <td>0</td>\n",
       "      <td>0</td>\n",
       "      <td>0</td>\n",
       "    </tr>\n",
       "    <tr>\n",
       "      <th>4</th>\n",
       "      <td>5</td>\n",
       "      <td>60</td>\n",
       "      <td>1</td>\n",
       "      <td>0</td>\n",
       "      <td>0</td>\n",
       "      <td>0</td>\n",
       "      <td>2</td>\n",
       "      <td>?</td>\n",
       "      <td>3</td>\n",
       "      <td>0</td>\n",
       "      <td>...</td>\n",
       "      <td>0</td>\n",
       "      <td>0</td>\n",
       "      <td>0</td>\n",
       "      <td>0</td>\n",
       "      <td>0</td>\n",
       "      <td>0</td>\n",
       "      <td>0</td>\n",
       "      <td>0</td>\n",
       "      <td>0</td>\n",
       "      <td>0</td>\n",
       "    </tr>\n",
       "  </tbody>\n",
       "</table>\n",
       "<p>5 rows × 124 columns</p>\n",
       "</div>"
      ],
      "text/plain": [
       "   0   1    2   3   4   5   6   7   8   9   ... 114 115 116 117 118 119 120  \\\n",
       "0    1  77    1   2   1   1   2   ?   3   0 ...   0   0   0   0   0   0   0   \n",
       "1    2  55    1   1   0   0   0   0   0   0 ...   0   0   0   0   0   0   0   \n",
       "2    3  52    1   0   0   0   2   ?   2   0 ...   0   0   0   0   0   0   0   \n",
       "3    4  68    0   0   0   0   2   ?   2   0 ...   0   0   0   0   0   0   1   \n",
       "4    5  60    1   0   0   0   2   ?   3   0 ...   0   0   0   0   0   0   0   \n",
       "\n",
       "  121 122 123  \n",
       "0   0   0   0  \n",
       "1   0   0   0  \n",
       "2   0   0   0  \n",
       "3   0   0   0  \n",
       "4   0   0   0  \n",
       "\n",
       "[5 rows x 124 columns]"
      ]
     },
     "execution_count": 2,
     "metadata": {},
     "output_type": "execute_result"
    }
   ],
   "source": [
    "#open up dataset and define it \n",
    "df = pd.read_csv('MI.data', header = None)\n",
    "df.head()"
   ]
  },
  {
   "cell_type": "code",
   "execution_count": 3,
   "metadata": {},
   "outputs": [],
   "source": [
    "from numpy import nan\n",
    "from pandas import read_csv"
   ]
  },
  {
   "cell_type": "code",
   "execution_count": 4,
   "metadata": {},
   "outputs": [
    {
     "name": "stdout",
     "output_type": "stream",
     "text": [
      "(1700, 124)\n"
     ]
    }
   ],
   "source": [
    "# summarize the shape of the raw data\n",
    "print(df.shape)"
   ]
  },
  {
   "cell_type": "code",
   "execution_count": 5,
   "metadata": {},
   "outputs": [
    {
     "name": "stdout",
     "output_type": "stream",
     "text": [
      "(1700, 124)\n"
     ]
    }
   ],
   "source": [
    "# replace '?' values with 'nan'\n",
    "df1 = df.replace(\"?\", nan)\n",
    "# summarize the shape of the data with missing rows removed\n",
    "print(df1.shape)"
   ]
  },
  {
   "cell_type": "code",
   "execution_count": 6,
   "metadata": {},
   "outputs": [
    {
     "data": {
      "text/html": [
       "<div>\n",
       "<style scoped>\n",
       "    .dataframe tbody tr th:only-of-type {\n",
       "        vertical-align: middle;\n",
       "    }\n",
       "\n",
       "    .dataframe tbody tr th {\n",
       "        vertical-align: top;\n",
       "    }\n",
       "\n",
       "    .dataframe thead th {\n",
       "        text-align: right;\n",
       "    }\n",
       "</style>\n",
       "<table border=\"1\" class=\"dataframe\">\n",
       "  <thead>\n",
       "    <tr style=\"text-align: right;\">\n",
       "      <th></th>\n",
       "      <th>0</th>\n",
       "      <th>1</th>\n",
       "      <th>2</th>\n",
       "      <th>3</th>\n",
       "      <th>4</th>\n",
       "      <th>5</th>\n",
       "      <th>6</th>\n",
       "      <th>7</th>\n",
       "      <th>8</th>\n",
       "      <th>9</th>\n",
       "      <th>...</th>\n",
       "      <th>114</th>\n",
       "      <th>115</th>\n",
       "      <th>116</th>\n",
       "      <th>117</th>\n",
       "      <th>118</th>\n",
       "      <th>119</th>\n",
       "      <th>120</th>\n",
       "      <th>121</th>\n",
       "      <th>122</th>\n",
       "      <th>123</th>\n",
       "    </tr>\n",
       "  </thead>\n",
       "  <tbody>\n",
       "    <tr>\n",
       "      <th>0</th>\n",
       "      <td>1</td>\n",
       "      <td>77</td>\n",
       "      <td>1</td>\n",
       "      <td>2</td>\n",
       "      <td>1</td>\n",
       "      <td>1</td>\n",
       "      <td>2</td>\n",
       "      <td>NaN</td>\n",
       "      <td>3</td>\n",
       "      <td>0</td>\n",
       "      <td>...</td>\n",
       "      <td>0</td>\n",
       "      <td>0</td>\n",
       "      <td>0</td>\n",
       "      <td>0</td>\n",
       "      <td>0</td>\n",
       "      <td>0</td>\n",
       "      <td>0</td>\n",
       "      <td>0</td>\n",
       "      <td>0</td>\n",
       "      <td>0</td>\n",
       "    </tr>\n",
       "    <tr>\n",
       "      <th>1</th>\n",
       "      <td>2</td>\n",
       "      <td>55</td>\n",
       "      <td>1</td>\n",
       "      <td>1</td>\n",
       "      <td>0</td>\n",
       "      <td>0</td>\n",
       "      <td>0</td>\n",
       "      <td>0</td>\n",
       "      <td>0</td>\n",
       "      <td>0</td>\n",
       "      <td>...</td>\n",
       "      <td>0</td>\n",
       "      <td>0</td>\n",
       "      <td>0</td>\n",
       "      <td>0</td>\n",
       "      <td>0</td>\n",
       "      <td>0</td>\n",
       "      <td>0</td>\n",
       "      <td>0</td>\n",
       "      <td>0</td>\n",
       "      <td>0</td>\n",
       "    </tr>\n",
       "    <tr>\n",
       "      <th>2</th>\n",
       "      <td>3</td>\n",
       "      <td>52</td>\n",
       "      <td>1</td>\n",
       "      <td>0</td>\n",
       "      <td>0</td>\n",
       "      <td>0</td>\n",
       "      <td>2</td>\n",
       "      <td>NaN</td>\n",
       "      <td>2</td>\n",
       "      <td>0</td>\n",
       "      <td>...</td>\n",
       "      <td>0</td>\n",
       "      <td>0</td>\n",
       "      <td>0</td>\n",
       "      <td>0</td>\n",
       "      <td>0</td>\n",
       "      <td>0</td>\n",
       "      <td>0</td>\n",
       "      <td>0</td>\n",
       "      <td>0</td>\n",
       "      <td>0</td>\n",
       "    </tr>\n",
       "    <tr>\n",
       "      <th>3</th>\n",
       "      <td>4</td>\n",
       "      <td>68</td>\n",
       "      <td>0</td>\n",
       "      <td>0</td>\n",
       "      <td>0</td>\n",
       "      <td>0</td>\n",
       "      <td>2</td>\n",
       "      <td>NaN</td>\n",
       "      <td>2</td>\n",
       "      <td>0</td>\n",
       "      <td>...</td>\n",
       "      <td>0</td>\n",
       "      <td>0</td>\n",
       "      <td>0</td>\n",
       "      <td>0</td>\n",
       "      <td>0</td>\n",
       "      <td>0</td>\n",
       "      <td>1</td>\n",
       "      <td>0</td>\n",
       "      <td>0</td>\n",
       "      <td>0</td>\n",
       "    </tr>\n",
       "    <tr>\n",
       "      <th>4</th>\n",
       "      <td>5</td>\n",
       "      <td>60</td>\n",
       "      <td>1</td>\n",
       "      <td>0</td>\n",
       "      <td>0</td>\n",
       "      <td>0</td>\n",
       "      <td>2</td>\n",
       "      <td>NaN</td>\n",
       "      <td>3</td>\n",
       "      <td>0</td>\n",
       "      <td>...</td>\n",
       "      <td>0</td>\n",
       "      <td>0</td>\n",
       "      <td>0</td>\n",
       "      <td>0</td>\n",
       "      <td>0</td>\n",
       "      <td>0</td>\n",
       "      <td>0</td>\n",
       "      <td>0</td>\n",
       "      <td>0</td>\n",
       "      <td>0</td>\n",
       "    </tr>\n",
       "  </tbody>\n",
       "</table>\n",
       "<p>5 rows × 124 columns</p>\n",
       "</div>"
      ],
      "text/plain": [
       "   0   1    2   3   4   5   6    7   8   9   ... 114 115 116 117 118 119 120  \\\n",
       "0    1  77    1   2   1   1   2  NaN   3   0 ...   0   0   0   0   0   0   0   \n",
       "1    2  55    1   1   0   0   0    0   0   0 ...   0   0   0   0   0   0   0   \n",
       "2    3  52    1   0   0   0   2  NaN   2   0 ...   0   0   0   0   0   0   0   \n",
       "3    4  68    0   0   0   0   2  NaN   2   0 ...   0   0   0   0   0   0   1   \n",
       "4    5  60    1   0   0   0   2  NaN   3   0 ...   0   0   0   0   0   0   0   \n",
       "\n",
       "  121 122 123  \n",
       "0   0   0   0  \n",
       "1   0   0   0  \n",
       "2   0   0   0  \n",
       "3   0   0   0  \n",
       "4   0   0   0  \n",
       "\n",
       "[5 rows x 124 columns]"
      ]
     },
     "execution_count": 6,
     "metadata": {},
     "output_type": "execute_result"
    }
   ],
   "source": [
    "df1.head()"
   ]
  },
  {
   "cell_type": "code",
   "execution_count": 7,
   "metadata": {},
   "outputs": [],
   "source": [
    "import numpy as np\n",
    "import matplotlib.pyplot as plt\n",
    "from matplotlib.colors import ListedColormap\n",
    "from sklearn.model_selection import train_test_split\n",
    "from sklearn.preprocessing import StandardScaler\n",
    "from sklearn.datasets import make_moons, make_circles, make_classification\n",
    "from sklearn.neighbors import KNeighborsClassifier\n",
    "from sklearn.svm import SVC\n",
    "from sklearn.tree import DecisionTreeClassifier, plot_tree\n",
    "from sklearn.metrics import plot_confusion_matrix\n",
    "from sklearn.ensemble import RandomForestClassifier\n",
    "from sklearn.datasets import load_iris\n",
    "from sklearn import tree"
   ]
  },
  {
   "cell_type": "code",
   "execution_count": 8,
   "metadata": {},
   "outputs": [
    {
     "data": {
      "text/html": [
       "<div>\n",
       "<style scoped>\n",
       "    .dataframe tbody tr th:only-of-type {\n",
       "        vertical-align: middle;\n",
       "    }\n",
       "\n",
       "    .dataframe tbody tr th {\n",
       "        vertical-align: top;\n",
       "    }\n",
       "\n",
       "    .dataframe thead th {\n",
       "        text-align: right;\n",
       "    }\n",
       "</style>\n",
       "<table border=\"1\" class=\"dataframe\">\n",
       "  <thead>\n",
       "    <tr style=\"text-align: right;\">\n",
       "      <th></th>\n",
       "      <th>0</th>\n",
       "      <th>1</th>\n",
       "      <th>2</th>\n",
       "      <th>3</th>\n",
       "      <th>4</th>\n",
       "      <th>5</th>\n",
       "      <th>6</th>\n",
       "      <th>8</th>\n",
       "      <th>9</th>\n",
       "      <th>10</th>\n",
       "      <th>...</th>\n",
       "      <th>114</th>\n",
       "      <th>115</th>\n",
       "      <th>116</th>\n",
       "      <th>117</th>\n",
       "      <th>118</th>\n",
       "      <th>119</th>\n",
       "      <th>120</th>\n",
       "      <th>121</th>\n",
       "      <th>122</th>\n",
       "      <th>123</th>\n",
       "    </tr>\n",
       "  </thead>\n",
       "  <tbody>\n",
       "    <tr>\n",
       "      <th>0</th>\n",
       "      <td>1</td>\n",
       "      <td>77</td>\n",
       "      <td>1</td>\n",
       "      <td>2</td>\n",
       "      <td>1</td>\n",
       "      <td>1</td>\n",
       "      <td>2</td>\n",
       "      <td>3</td>\n",
       "      <td>0</td>\n",
       "      <td>7</td>\n",
       "      <td>...</td>\n",
       "      <td>0</td>\n",
       "      <td>0</td>\n",
       "      <td>0</td>\n",
       "      <td>0</td>\n",
       "      <td>0</td>\n",
       "      <td>0</td>\n",
       "      <td>0</td>\n",
       "      <td>0</td>\n",
       "      <td>0</td>\n",
       "      <td>0</td>\n",
       "    </tr>\n",
       "    <tr>\n",
       "      <th>1</th>\n",
       "      <td>2</td>\n",
       "      <td>55</td>\n",
       "      <td>1</td>\n",
       "      <td>1</td>\n",
       "      <td>0</td>\n",
       "      <td>0</td>\n",
       "      <td>0</td>\n",
       "      <td>0</td>\n",
       "      <td>0</td>\n",
       "      <td>0</td>\n",
       "      <td>...</td>\n",
       "      <td>0</td>\n",
       "      <td>0</td>\n",
       "      <td>0</td>\n",
       "      <td>0</td>\n",
       "      <td>0</td>\n",
       "      <td>0</td>\n",
       "      <td>0</td>\n",
       "      <td>0</td>\n",
       "      <td>0</td>\n",
       "      <td>0</td>\n",
       "    </tr>\n",
       "    <tr>\n",
       "      <th>2</th>\n",
       "      <td>3</td>\n",
       "      <td>52</td>\n",
       "      <td>1</td>\n",
       "      <td>0</td>\n",
       "      <td>0</td>\n",
       "      <td>0</td>\n",
       "      <td>2</td>\n",
       "      <td>2</td>\n",
       "      <td>0</td>\n",
       "      <td>2</td>\n",
       "      <td>...</td>\n",
       "      <td>0</td>\n",
       "      <td>0</td>\n",
       "      <td>0</td>\n",
       "      <td>0</td>\n",
       "      <td>0</td>\n",
       "      <td>0</td>\n",
       "      <td>0</td>\n",
       "      <td>0</td>\n",
       "      <td>0</td>\n",
       "      <td>0</td>\n",
       "    </tr>\n",
       "    <tr>\n",
       "      <th>3</th>\n",
       "      <td>4</td>\n",
       "      <td>68</td>\n",
       "      <td>0</td>\n",
       "      <td>0</td>\n",
       "      <td>0</td>\n",
       "      <td>0</td>\n",
       "      <td>2</td>\n",
       "      <td>2</td>\n",
       "      <td>0</td>\n",
       "      <td>3</td>\n",
       "      <td>...</td>\n",
       "      <td>0</td>\n",
       "      <td>0</td>\n",
       "      <td>0</td>\n",
       "      <td>0</td>\n",
       "      <td>0</td>\n",
       "      <td>0</td>\n",
       "      <td>1</td>\n",
       "      <td>0</td>\n",
       "      <td>0</td>\n",
       "      <td>0</td>\n",
       "    </tr>\n",
       "    <tr>\n",
       "      <th>4</th>\n",
       "      <td>5</td>\n",
       "      <td>60</td>\n",
       "      <td>1</td>\n",
       "      <td>0</td>\n",
       "      <td>0</td>\n",
       "      <td>0</td>\n",
       "      <td>2</td>\n",
       "      <td>3</td>\n",
       "      <td>0</td>\n",
       "      <td>7</td>\n",
       "      <td>...</td>\n",
       "      <td>0</td>\n",
       "      <td>0</td>\n",
       "      <td>0</td>\n",
       "      <td>0</td>\n",
       "      <td>0</td>\n",
       "      <td>0</td>\n",
       "      <td>0</td>\n",
       "      <td>0</td>\n",
       "      <td>0</td>\n",
       "      <td>0</td>\n",
       "    </tr>\n",
       "  </tbody>\n",
       "</table>\n",
       "<p>5 rows × 109 columns</p>\n",
       "</div>"
      ],
      "text/plain": [
       "   0   1    2   3   4   5   6   8   9   10  ... 114 115 116 117 118 119 120  \\\n",
       "0    1  77    1   2   1   1   2   3   0   7 ...   0   0   0   0   0   0   0   \n",
       "1    2  55    1   1   0   0   0   0   0   0 ...   0   0   0   0   0   0   0   \n",
       "2    3  52    1   0   0   0   2   2   0   2 ...   0   0   0   0   0   0   0   \n",
       "3    4  68    0   0   0   0   2   2   0   3 ...   0   0   0   0   0   0   1   \n",
       "4    5  60    1   0   0   0   2   3   0   7 ...   0   0   0   0   0   0   0   \n",
       "\n",
       "  121 122 123  \n",
       "0   0   0   0  \n",
       "1   0   0   0  \n",
       "2   0   0   0  \n",
       "3   0   0   0  \n",
       "4   0   0   0  \n",
       "\n",
       "[5 rows x 109 columns]"
      ]
     },
     "execution_count": 8,
     "metadata": {},
     "output_type": "execute_result"
    }
   ],
   "source": [
    "#drop the columns with missing variables of 15% or more \n",
    "df1 = df1.drop(columns=[88, 7, 34, 35, 96, 97, 95, 85, 84, 83, 82, 87, 86, 36, 37])\n",
    "df1.head()"
   ]
  },
  {
   "cell_type": "code",
   "execution_count": 9,
   "metadata": {},
   "outputs": [
    {
     "name": "stdout",
     "output_type": "stream",
     "text": [
      "     1    2   3   4   5   6   8   9   10  11  ... 114 115 116 117 118 119 120  \\\n",
      "0     77    1   2   1   1   2   3   0   7   0 ...   0   0   0   0   0   0   0   \n",
      "1     55    1   1   0   0   0   0   0   0   0 ...   0   0   0   0   0   0   0   \n",
      "2     52    1   0   0   0   2   2   0   2   0 ...   0   0   0   0   0   0   0   \n",
      "3     68    0   0   0   0   2   2   0   3   1 ...   0   0   0   0   0   0   1   \n",
      "4     60    1   0   0   0   2   3   0   7   0 ...   0   0   0   0   0   0   0   \n",
      "5     64    1   0   1   2   1   0   0   0   0 ...   0   0   0   0   0   0   0   \n",
      "6     70    1   1   1   2   1   2   0   7   1 ...   0   0   0   0   0   0   1   \n",
      "7     65    1   0   1   1   2   2   0   7   0 ...   0   0   0   0   0   0   0   \n",
      "8     60    1   0   0   0   2   2   0   6   0 ...   0   0   0   0   0   0   0   \n",
      "9     77    0   2   0   0   0   3   0   6   1 ...   0   0   0   0   0   0   1   \n",
      "10    71    1   0   0   0   0   0   0   0   0 ...   0   0   0   0   0   0   0   \n",
      "11    50    0   0   0   0   0   2   0   3   0 ...   0   0   0   0   0   0   0   \n",
      "12    60    1   1   0   0   2   2   0   2   0 ...   0   0   0   0   0   0   0   \n",
      "13    57    1   0   0   0   2   2   0   6   0 ...   0   0   0   0   0   0   0   \n",
      "14    55    1   1   1   2   2   2   0   1   0 ...   0   0   0   0   0   0   0   \n",
      "15    57    1   3   0   0   0   2   0   6   0 ...   0   0   0   0   0   1   0   \n",
      "16    52    1   0   6   2   1   2   0   7   0 ...   0   0   0   0   0   0   0   \n",
      "17    52    0   1   1   2   2   2   0   7   1 ...   0   0   0   0   0   0   1   \n",
      "18    54    1   0   1   3   2   2   0   2   0 ...   0   0   0   0   0   0   0   \n",
      "19    71    0   0   1   4   2   0   0   0   0 ...   0   0   0   0   0   0   0   \n",
      "20    70    0   0   0   0   2   0   0   0   0 ...   0   0   0   0   0   0   0   \n",
      "21    83    1   0   0   0   2   0   0   0   1 ...   0   0   0   0   0   0   1   \n",
      "22    70    0   0   5   2   2   2   0   5   1 ...   0   0   0   1   0   0   1   \n",
      "23    63    1   0   1   2   0   0   1   5   0 ...   0   0   0   0   0   0   0   \n",
      "24    67    1   1   6   2   1   0   0   0   1 ...   0   0   0   0   0   0   0   \n",
      "25    77    1   3   6   2   2   2   0   3   0 ...   0   0   0   0   0   0   0   \n",
      "26    82    0   1   2   2   1   2   0   7   1 ...   0   0   0   1   0   0   1   \n",
      "27    53    1   0   0   0   0   3   0   3   0 ...   0   0   0   0   0   0   0   \n",
      "28    44    1   0   1   2   1   2   0   1   0 ...   0   0   0   0   0   0   0   \n",
      "29    50    1   2   6   2   1   3   0   6   0 ...   0   0   0   0   0   0   0   \n",
      "...   ..  ...  ..  ..  ..  ..  ..  ..  ..  .. ...  ..  ..  ..  ..  ..  ..  ..   \n",
      "1670  83    0   0   0   0   0   3   0   3   0 ...   0   0   0   0   0   0   0   \n",
      "1671  66    1   0   2   2   1   2   0   3   0 ...   0   0   0   0   1   0   0   \n",
      "1672  60    1   0   2   2   1   0   0   0   0 ...   0   0   0   0   0   0   0   \n",
      "1673  70    0   1   6   2   2   2   0   7   4 ...   0   0   0   1   0   0   0   \n",
      "1674  78    0   1   2   2   1   2   0   7   0 ...   0   0   0   0   1   0   0   \n",
      "1675  75    1   0   6   2   1   2   0   2   0 ...   0   0   0   1   0   0   0   \n",
      "1676  60    1   0   0   0   0   0   0   0   0 ...   0   0   0   1   0   0   1   \n",
      "1677  57    1   1   3   2   2   0   0   0   0 ...   0   1   0   0   0   0   0   \n",
      "1678  63    1   0   0   0   0   2   0   7   0 ...   0   0   0   0   1   0   0   \n",
      "1679  75    0   1   5   2   1   2   0   3   3 ...   0   0   0   0   1   0   0   \n",
      "1680  76    0   0   4   2   1   2   0   7   0 ...   0   0   0   0   1   0   0   \n",
      "1681  61    1   3   6   2   2   2   0   3   4 ...   0   0   0   0   0   0   0   \n",
      "1682  61    0   1   5   2   2   2   0   3   2 ...   0   0   0   0   0   0   0   \n",
      "1683  73    1   1   6   2   1   3   0   4   0 ...   0   0   0   0   1   0   0   \n",
      "1684  66    0   0   5   1   1   3   0   6   0 ...   0   0   0   0   0   0   0   \n",
      "1685  88    0   2   6   2   2   2   0   3   0 ...   0   0   0   0   0   0   0   \n",
      "1686  85    1   1   0   0   0   3   0   3   0 ...   0   0   0   0   0   0   0   \n",
      "1687  54    0   2   6   3   1   2   0   7   0 ...   0   0   0   0   0   0   0   \n",
      "1688  77    1   1   5   2   2   2   0   7   2 ...   0   0   0   0   0   0   1   \n",
      "1689  53    1   1   1   2   2   0   0   0   0 ...   0   0   0   0   0   0   0   \n",
      "1690  77    1   0   0   0   0   2   0   3   0 ...   0   0   1   0   1   0   0   \n",
      "1691  62    1   0   0   0   0   0   1   7   0 ...   0   0   0   0   1   0   0   \n",
      "1692  71    0   0   6   2   2   2   0   7   0 ...   0   0   0   0   1   0   0   \n",
      "1693  70    0   0   2   2   1   2   0   7   0 ...   0   0   0   0   1   0   0   \n",
      "1694  77    0   0   0   0   0   2   0   7   0 ...   0   0   0   0   1   0   0   \n",
      "1695  77    0   0   4   2   1   2   0   7   0 ...   0   0   1   0   1   0   0   \n",
      "1696  70    0   0   6   2   1   2   0   7   0 ...   0   0   0   0   0   0   0   \n",
      "1697  55    1   3   6   2   2   0   0   0   0 ...   0   0   0   0   0   0   0   \n",
      "1698  79    0   2   2   2   1   2   0   7   0 ...   0   0   0   1   0   0   0   \n",
      "1699  63    1   2   1   2   1   2   0   3   4 ...   0   0   0   0   0   0   0   \n",
      "\n",
      "     121 122 123  \n",
      "0      0   0   0  \n",
      "1      0   0   0  \n",
      "2      0   0   0  \n",
      "3      0   0   0  \n",
      "4      0   0   0  \n",
      "5      0   0   0  \n",
      "6      0   0   0  \n",
      "7      0   0   0  \n",
      "8      0   0   0  \n",
      "9      0   0   0  \n",
      "10     0   0   0  \n",
      "11     1   0   0  \n",
      "12     0   0   0  \n",
      "13     0   0   0  \n",
      "14     0   0   0  \n",
      "15     0   0   0  \n",
      "16     0   0   0  \n",
      "17     0   0   0  \n",
      "18     0   0   0  \n",
      "19     0   0   0  \n",
      "20     0   0   0  \n",
      "21     0   0   0  \n",
      "22     0   0   0  \n",
      "23     0   0   0  \n",
      "24     0   0   0  \n",
      "25     0   0   0  \n",
      "26     0   0   0  \n",
      "27     0   0   0  \n",
      "28     0   0   0  \n",
      "29     0   0   0  \n",
      "...   ..  ..  ..  \n",
      "1670   0   0   6  \n",
      "1671   0   0   3  \n",
      "1672   0   0   1  \n",
      "1673   0   0   2  \n",
      "1674   0   0   3  \n",
      "1675   0   0   2  \n",
      "1676   0   0   2  \n",
      "1677   0   0   7  \n",
      "1678   0   0   3  \n",
      "1679   0   0   3  \n",
      "1680   0   0   3  \n",
      "1681   0   0   7  \n",
      "1682   0   0   1  \n",
      "1683   0   0   3  \n",
      "1684   0   0   5  \n",
      "1685   0   0   6  \n",
      "1686   0   0   6  \n",
      "1687   0   0   6  \n",
      "1688   0   0   4  \n",
      "1689   0   0   0  \n",
      "1690   0   0   3  \n",
      "1691   0   0   3  \n",
      "1692   1   0   3  \n",
      "1693   0   0   3  \n",
      "1694   0   0   3  \n",
      "1695   0   0   3  \n",
      "1696   0   0   1  \n",
      "1697   1   0   6  \n",
      "1698   0   0   1  \n",
      "1699   0   0   1  \n",
      "\n",
      "[1700 rows x 108 columns]\n"
     ]
    }
   ],
   "source": [
    "#define the independent variable\n",
    "X = df1.iloc[:, 1:112].fillna(df1.median())\n",
    "print(X)"
   ]
  },
  {
   "cell_type": "code",
   "execution_count": 10,
   "metadata": {},
   "outputs": [
    {
     "name": "stdout",
     "output_type": "stream",
     "text": [
      "0       0\n",
      "1       0\n",
      "2       0\n",
      "3       0\n",
      "4       0\n",
      "5       1\n",
      "6       0\n",
      "7       0\n",
      "8       1\n",
      "9       0\n",
      "10      0\n",
      "11      0\n",
      "12      0\n",
      "13      0\n",
      "14      0\n",
      "15      0\n",
      "16      0\n",
      "17      0\n",
      "18      0\n",
      "19      0\n",
      "20      0\n",
      "21      0\n",
      "22      0\n",
      "23      0\n",
      "24      0\n",
      "25      0\n",
      "26      0\n",
      "27      0\n",
      "28      0\n",
      "29      1\n",
      "       ..\n",
      "1670    0\n",
      "1671    0\n",
      "1672    0\n",
      "1673    0\n",
      "1674    0\n",
      "1675    0\n",
      "1676    0\n",
      "1677    0\n",
      "1678    0\n",
      "1679    0\n",
      "1680    0\n",
      "1681    0\n",
      "1682    0\n",
      "1683    0\n",
      "1684    0\n",
      "1685    0\n",
      "1686    0\n",
      "1687    0\n",
      "1688    1\n",
      "1689    0\n",
      "1690    0\n",
      "1691    0\n",
      "1692    1\n",
      "1693    0\n",
      "1694    0\n",
      "1695    0\n",
      "1696    0\n",
      "1697    0\n",
      "1698    0\n",
      "1699    0\n",
      "Name: 112, Length: 1700, dtype: int64\n"
     ]
    }
   ],
   "source": [
    "# Atrial fibrillation SVM \n",
    "# assigning a dependent variable for output: Atrial fibrillation\n",
    "y = df1.iloc[:, 97]\n",
    "print(y)"
   ]
  },
  {
   "cell_type": "code",
   "execution_count": 11,
   "metadata": {},
   "outputs": [],
   "source": [
    "#training the variables \n",
    "X_train, X_test, y_train, y_test = train_test_split(X, y, random_state=0)"
   ]
  },
  {
   "cell_type": "code",
   "execution_count": 12,
   "metadata": {},
   "outputs": [
    {
     "data": {
      "text/plain": [
       "SVC()"
      ]
     },
     "execution_count": 12,
     "metadata": {},
     "output_type": "execute_result"
    }
   ],
   "source": [
    "# Generate a random binary classification problem.\n",
    "svm_model = SVC()\n",
    "\n",
    "# Fit a SVM moel.\n",
    "svm_model.fit(X, y)"
   ]
  },
  {
   "cell_type": "code",
   "execution_count": 13,
   "metadata": {},
   "outputs": [
    {
     "name": "stdout",
     "output_type": "stream",
     "text": [
      "[0 0 0 ... 0 0 0]\n"
     ]
    }
   ],
   "source": [
    "from sklearn.metrics import accuracy_score\n",
    "\n",
    "# make prediction\n",
    "y_pred = svm_model.predict(X) \n",
    "\n",
    "print(y_pred)"
   ]
  },
  {
   "cell_type": "code",
   "execution_count": 14,
   "metadata": {},
   "outputs": [
    {
     "name": "stdout",
     "output_type": "stream",
     "text": [
      "Accuracy :  0.9\n"
     ]
    }
   ],
   "source": [
    "# compute accuracy and print it\n",
    "accuracy = accuracy_score(y, y_pred) \n",
    "print(\"Accuracy : \", accuracy)"
   ]
  },
  {
   "cell_type": "code",
   "execution_count": 15,
   "metadata": {},
   "outputs": [
    {
     "name": "stdout",
     "output_type": "stream",
     "text": [
      "[[376   0]\n",
      " [ 49   0]]\n"
     ]
    },
    {
     "data": {
      "image/png": "[encoded data removed]",
      "text/plain": [
       "<Figure size 432x288 with 2 Axes>"
      ]
     },
     "metadata": {
      "needs_background": "light"
     },
     "output_type": "display_data"
    }
   ],
   "source": [
    "class_names = [\"Class 0\", \"Class 1\"]\n",
    "# fit a SVM classifier using the training sub-set\n",
    "classifier = SVC().fit(X_train, y_train)\n",
    "\n",
    "# plot the confusion matrix for the test sub-set\n",
    "disp = plot_confusion_matrix(classifier, X_test, y_test, display_labels=class_names)\n",
    "plt.title(\"SVM Classifier of Atrial fibrillation\")\n",
    "\n",
    "print(disp.confusion_matrix)"
   ]
  },
  {
   "cell_type": "code",
   "execution_count": 16,
   "metadata": {},
   "outputs": [
    {
     "name": "stdout",
     "output_type": "stream",
     "text": [
      "Accuracy :  0.9882352941176471\n"
     ]
    }
   ],
   "source": [
    "# Supraventricular tachycardia SVM\n",
    "# assigning a dependent variable for output: Supraventricular tachycardia\n",
    "y2 = df1.iloc[:, 98]\n",
    "\n",
    "X_train, X_test, y2_train, y2_test = train_test_split(X, y2, random_state=0)\n",
    "\n",
    "\n",
    "\n",
    "svm_model = SVC()\n",
    "\n",
    "svm_model.fit(X, y2)\n",
    "\n",
    "# make prediction\n",
    "y2_pred = svm_model.predict(X) \n",
    "\n",
    "# compute accuracy and print it\n",
    "accuracy = accuracy_score(y2, y2_pred) \n",
    "print(\"Accuracy : \", accuracy)\n",
    "\n",
    "\n"
   ]
  },
  {
   "cell_type": "code",
   "execution_count": 17,
   "metadata": {},
   "outputs": [
    {
     "name": "stdout",
     "output_type": "stream",
     "text": [
      "[[417   0]\n",
      " [  8   0]]\n"
     ]
    },
    {
     "data": {
      "image/png": "[encoded data removed]",
      "text/plain": [
       "<Figure size 432x288 with 2 Axes>"
      ]
     },
     "metadata": {
      "needs_background": "light"
     },
     "output_type": "display_data"
    }
   ],
   "source": [
    "class_names = [\"Class 0\", \"Class 1\"]\n",
    "# fit a SVM classifier using the training sub-set\n",
    "classifier = SVC().fit(X_train, y2_train)\n",
    "\n",
    "# plot the confusion matrix for the test sub-set\n",
    "disp = plot_confusion_matrix(classifier, X_test, y2_test, display_labels=class_names)\n",
    "plt.title(\"SVM Classifier of Supraventricular tachycardia\")\n",
    "\n",
    "print(disp.confusion_matrix)\n",
    "\n"
   ]
  },
  {
   "cell_type": "code",
   "execution_count": 18,
   "metadata": {},
   "outputs": [
    {
     "name": "stdout",
     "output_type": "stream",
     "text": [
      "Accuracy :  0.9752941176470589\n"
     ]
    }
   ],
   "source": [
    "# Ventricular tachycardia SVM\n",
    "# assigning a dependent variable for output: Ventricular tachycardia\n",
    "y3 = df1.iloc[:, 99]\n",
    "\n",
    "#training the variables \n",
    "X_train, X_test, y3_train, y3_test = train_test_split(X, y3, random_state=0)\n",
    "\n",
    "# Generate a random binary classification problem.\n",
    "svm_model = SVC()\n",
    "\n",
    "# Fit a SVM moel.\n",
    "svm_model.fit(X, y3)\n",
    "\n",
    "\n",
    "# make prediction\n",
    "y3_pred = svm_model.predict(X) \n",
    "\n",
    "# compute accuracy and print it\n",
    "accuracy = accuracy_score(y3, y3_pred) \n",
    "print(\"Accuracy : \", accuracy)\n"
   ]
  },
  {
   "cell_type": "code",
   "execution_count": 19,
   "metadata": {},
   "outputs": [
    {
     "name": "stdout",
     "output_type": "stream",
     "text": [
      "[[415   0]\n",
      " [ 10   0]]\n"
     ]
    },
    {
     "data": {
      "image/png": "[encoded data removed]",
      "text/plain": [
       "<Figure size 432x288 with 2 Axes>"
      ]
     },
     "metadata": {
      "needs_background": "light"
     },
     "output_type": "display_data"
    }
   ],
   "source": [
    "class_names = [\"Class 0\", \"Class 1\"]\n",
    "# fit a SVM classifier using the training sub-set\n",
    "classifier = SVC().fit(X_train, y3_train)\n",
    "\n",
    "# plot the confusion matrix for the test sub-set\n",
    "disp = plot_confusion_matrix(classifier, X_test, y3_test, display_labels=class_names)\n",
    "plt.title(\"SVM Classifier of Ventricular tachycardia\")\n",
    "\n",
    "print(disp.confusion_matrix)\n"
   ]
  },
  {
   "cell_type": "code",
   "execution_count": 20,
   "metadata": {},
   "outputs": [
    {
     "name": "stdout",
     "output_type": "stream",
     "text": [
      "Accuracy :  0.9582352941176471\n"
     ]
    }
   ],
   "source": [
    "# Ventricular fibrillation SVM\n",
    "# assigning a dependent variable for output: Ventricular fibrillation\n",
    "y4 = df1.iloc[:, 100]\n",
    "\n",
    "#training the variables \n",
    "X_train, X_test, y4_train, y4_test = train_test_split(X, y4, random_state=0)\n",
    "\n",
    "# Generate a random binary classification problem.\n",
    "svm_model = SVC()\n",
    "\n",
    "# Fit a SVM moel.\n",
    "svm_model.fit(X, y4)\n",
    "\n",
    "\n",
    "# make prediction\n",
    "y4_pred = svm_model.predict(X) \n",
    "\n",
    "# compute accuracy and print it\n",
    "accuracy = accuracy_score(y4, y4_pred) \n",
    "print(\"Accuracy : \", accuracy)\n"
   ]
  },
  {
   "cell_type": "code",
   "execution_count": 21,
   "metadata": {},
   "outputs": [
    {
     "name": "stdout",
     "output_type": "stream",
     "text": [
      "[[406   0]\n",
      " [ 19   0]]\n"
     ]
    },
    {
     "data": {
      "image/png": "[encoded data removed]",
      "text/plain": [
       "<Figure size 432x288 with 2 Axes>"
      ]
     },
     "metadata": {
      "needs_background": "light"
     },
     "output_type": "display_data"
    }
   ],
   "source": [
    "class_names = [\"Class 0\", \"Class 1\"]\n",
    "# fit a SVM classifier using the training sub-set\n",
    "classifier = SVC().fit(X_train, y4_train)\n",
    "\n",
    "# plot the confusion matrix for the test sub-set\n",
    "disp = plot_confusion_matrix(classifier, X_test, y4_test, display_labels=class_names)\n",
    "plt.title(\"SVM Classifier of Ventricular fibrillation\")\n",
    "\n",
    "print(disp.confusion_matrix)\n",
    "\n"
   ]
  },
  {
   "cell_type": "code",
   "execution_count": 22,
   "metadata": {},
   "outputs": [
    {
     "name": "stdout",
     "output_type": "stream",
     "text": [
      "Accuracy :  0.9664705882352941\n"
     ]
    }
   ],
   "source": [
    "# Third-degree AV block SVM \n",
    "# assigning a dependent variable for output: Third-degree AV block\n",
    "y5 = df1.iloc[:, 101]\n",
    "\n",
    "#training the variables \n",
    "X_train, X_test, y5_train, y5_test = train_test_split(X, y5, random_state=0)\n",
    "\n",
    "# Generate a random binary classification problem.\n",
    "svm_model = SVC()\n",
    "\n",
    "# Fit a SVM moel.\n",
    "svm_model.fit(X, y5)\n",
    "\n",
    "\n",
    "# make prediction\n",
    "y5_pred = svm_model.predict(X) \n",
    "\n",
    "# compute accuracy and print it\n",
    "accuracy = accuracy_score(y5, y5_pred) \n",
    "print(\"Accuracy : \", accuracy)\n"
   ]
  },
  {
   "cell_type": "code",
   "execution_count": 23,
   "metadata": {},
   "outputs": [
    {
     "name": "stdout",
     "output_type": "stream",
     "text": [
      "[[414   0]\n",
      " [ 11   0]]\n"
     ]
    },
    {
     "data": {
      "image/png": "[encoded data removed]",
      "text/plain": [
       "<Figure size 432x288 with 2 Axes>"
      ]
     },
     "metadata": {
      "needs_background": "light"
     },
     "output_type": "display_data"
    }
   ],
   "source": [
    "class_names = [\"Class 0\", \"Class 1\"]\n",
    "# fit a SVM classifier using the training sub-set\n",
    "classifier = SVC().fit(X_train, y5_train)\n",
    "\n",
    "# plot the confusion matrix for the test sub-set\n",
    "disp = plot_confusion_matrix(classifier, X_test, y5_test, display_labels=class_names)\n",
    "plt.title(\"SVM Classifier of Third-degree AV block\")\n",
    "\n",
    "print(disp.confusion_matrix)\n"
   ]
  },
  {
   "cell_type": "code",
   "execution_count": 24,
   "metadata": {},
   "outputs": [
    {
     "name": "stdout",
     "output_type": "stream",
     "text": [
      "Accuracy :  0.9064705882352941\n"
     ]
    }
   ],
   "source": [
    "# Pulmonary edema SVM \n",
    "# assigning a dependent variable for output: Pulmonary edema\n",
    "y6 = df1.iloc[:, 102]\n",
    "\n",
    "#training the variables \n",
    "X_train, X_test, y6_train, y6_test = train_test_split(X, y6, random_state=0)\n",
    "\n",
    "# Generate a random binary classification problem.\n",
    "svm_model = SVC()\n",
    "\n",
    "# Fit a SVM moel.\n",
    "svm_model.fit(X, y6)\n",
    "\n",
    "\n",
    "# make prediction\n",
    "y6_pred = svm_model.predict(X) \n",
    "\n",
    "# compute accuracy and print it\n",
    "accuracy = accuracy_score(y6, y6_pred) \n",
    "print(\"Accuracy : \", accuracy)\n"
   ]
  },
  {
   "cell_type": "code",
   "execution_count": 25,
   "metadata": {},
   "outputs": [
    {
     "name": "stdout",
     "output_type": "stream",
     "text": [
      "[[388   0]\n",
      " [ 37   0]]\n"
     ]
    },
    {
     "data": {
      "image/png": "[encoded data removed]",
      "text/plain": [
       "<Figure size 432x288 with 2 Axes>"
      ]
     },
     "metadata": {
      "needs_background": "light"
     },
     "output_type": "display_data"
    }
   ],
   "source": [
    "class_names = [\"Class 0\", \"Class 1\"]\n",
    "# fit a SVM classifier using the training sub-set\n",
    "classifier = SVC().fit(X_train, y6_train)\n",
    "\n",
    "# plot the confusion matrix for the test sub-set\n",
    "disp = plot_confusion_matrix(classifier, X_test, y6_test, display_labels=class_names)\n",
    "plt.title(\"SVM Classifier of Pulmonary edema\")\n",
    "\n",
    "print(disp.confusion_matrix)"
   ]
  },
  {
   "cell_type": "code",
   "execution_count": 26,
   "metadata": {},
   "outputs": [
    {
     "name": "stdout",
     "output_type": "stream",
     "text": [
      "Accuracy :  0.9682352941176471\n"
     ]
    }
   ],
   "source": [
    "# Myocardial rupture SVM \n",
    "# assigning a dependent variable for output: Myocardial rupture\n",
    "y7 = df1.iloc[:, 103]\n",
    "\n",
    "#training the variables \n",
    "X_train, X_test, y7_train, y7_test = train_test_split(X, y7, random_state=0)\n",
    "\n",
    "# Generate a random binary classification problem.\n",
    "svm_model = SVC()\n",
    "\n",
    "# Fit a SVM moel.\n",
    "svm_model.fit(X, y7)\n",
    "\n",
    "\n",
    "# make prediction\n",
    "y7_pred = svm_model.predict(X) \n",
    "\n",
    "# compute accuracy and print it\n",
    "accuracy = accuracy_score(y7, y7_pred) \n",
    "print(\"Accuracy : \", accuracy)\n"
   ]
  },
  {
   "cell_type": "code",
   "execution_count": 27,
   "metadata": {},
   "outputs": [
    {
     "name": "stdout",
     "output_type": "stream",
     "text": [
      "[[413   0]\n",
      " [ 12   0]]\n"
     ]
    },
    {
     "data": {
      "image/png": "[encoded data removed]",
      "text/plain": [
       "<Figure size 432x288 with 2 Axes>"
      ]
     },
     "metadata": {
      "needs_background": "light"
     },
     "output_type": "display_data"
    }
   ],
   "source": [
    "class_names = [\"Class 0\", \"Class 1\"]\n",
    "# fit a SVM classifier using the training sub-set\n",
    "classifier = SVC().fit(X_train, y7_train)\n",
    "\n",
    "# plot the confusion matrix for the test sub-set\n",
    "disp = plot_confusion_matrix(classifier, X_test, y7_test, display_labels=class_names)\n",
    "plt.title(\"SVM Classifier of Myocardial rupture \")\n",
    "\n",
    "print(disp.confusion_matrix)"
   ]
  },
  {
   "cell_type": "code",
   "execution_count": 28,
   "metadata": {},
   "outputs": [
    {
     "name": "stdout",
     "output_type": "stream",
     "text": [
      "Accuracy :  0.9558823529411765\n"
     ]
    }
   ],
   "source": [
    "# Dressler syndrome SVM \n",
    "# assigning a dependent variable for output: Dressler syndrome\n",
    "y8 = df1.iloc[:, 104]\n",
    "\n",
    "#training the variables \n",
    "X_train, X_test, y8_train, y8_test = train_test_split(X, y8, random_state=0)\n",
    "\n",
    "# Generate a random binary classification problem.\n",
    "svm_model = SVC()\n",
    "\n",
    "# Fit a SVM moel.\n",
    "svm_model.fit(X, y8)\n",
    "\n",
    "\n",
    "# make prediction\n",
    "y8_pred = svm_model.predict(X) \n",
    "\n",
    "# compute accuracy and print it\n",
    "accuracy = accuracy_score(y8, y8_pred) \n",
    "print(\"Accuracy : \", accuracy)\n"
   ]
  },
  {
   "cell_type": "code",
   "execution_count": 29,
   "metadata": {},
   "outputs": [
    {
     "name": "stdout",
     "output_type": "stream",
     "text": [
      "[[404   0]\n",
      " [ 21   0]]\n"
     ]
    },
    {
     "data": {
      "image/png": "[encoded data removed]",
      "text/plain": [
       "<Figure size 432x288 with 2 Axes>"
      ]
     },
     "metadata": {
      "needs_background": "light"
     },
     "output_type": "display_data"
    }
   ],
   "source": [
    "class_names = [\"Class 0\", \"Class 1\"]\n",
    "# fit a SVM classifier using the training sub-set\n",
    "classifier = SVC().fit(X_train, y8_train)\n",
    "\n",
    "# plot the confusion matrix for the test sub-set\n",
    "disp = plot_confusion_matrix(classifier, X_test, y8_test, display_labels=class_names)\n",
    "plt.title(\"SVM Classifier of Dressler syndrome\")\n",
    "\n",
    "print(disp.confusion_matrix)"
   ]
  },
  {
   "cell_type": "code",
   "execution_count": 30,
   "metadata": {},
   "outputs": [
    {
     "name": "stdout",
     "output_type": "stream",
     "text": [
      "Accuracy :  0.768235294117647\n"
     ]
    }
   ],
   "source": [
    "# Chronic heart failure SVM \n",
    "# assigning a dependent variable for output: Chronic heart failure\n",
    "y9 = df1.iloc[:, 105]\n",
    "\n",
    "#training the variables \n",
    "X_train, X_test, y9_train, y9_test = train_test_split(X, y9, random_state=0)\n",
    "\n",
    "# Generate a random binary classification problem.\n",
    "svm_model = SVC()\n",
    "\n",
    "# Fit a SVM moel.\n",
    "svm_model.fit(X, y9)\n",
    "\n",
    "\n",
    "# make prediction\n",
    "y9_pred = svm_model.predict(X) \n",
    "\n",
    "# compute accuracy and print it\n",
    "accuracy = accuracy_score(y9, y9_pred) \n",
    "print(\"Accuracy : \", accuracy)\n"
   ]
  },
  {
   "cell_type": "code",
   "execution_count": 31,
   "metadata": {},
   "outputs": [
    {
     "name": "stdout",
     "output_type": "stream",
     "text": [
      "[[325   0]\n",
      " [100   0]]\n"
     ]
    },
    {
     "data": {
      "image/png": "[encoded data removed]",
      "text/plain": [
       "<Figure size 432x288 with 2 Axes>"
      ]
     },
     "metadata": {
      "needs_background": "light"
     },
     "output_type": "display_data"
    }
   ],
   "source": [
    "class_names = [\"Class 0\", \"Class 1\"]\n",
    "# fit a SVM classifier using the training sub-set\n",
    "classifier = SVC().fit(X_train, y9_train)\n",
    "\n",
    "# plot the confusion matrix for the test sub-set\n",
    "disp = plot_confusion_matrix(classifier, X_test, y9_test, display_labels=class_names)\n",
    "plt.title(\"SVM Classifier of Chronic heart failure \")\n",
    "\n",
    "print(disp.confusion_matrix)"
   ]
  },
  {
   "cell_type": "code",
   "execution_count": 32,
   "metadata": {},
   "outputs": [
    {
     "name": "stdout",
     "output_type": "stream",
     "text": [
      "Accuracy :  0.9064705882352941\n"
     ]
    }
   ],
   "source": [
    "# Relapse of the myocardial infarction SVM\n",
    "# assigning a dependent variable for output: Relapse of the myocardial infarction\n",
    "y10 = df1.iloc[:, 106]\n",
    "\n",
    "#training the variables \n",
    "X_train, X_test, y10_train, y10_test = train_test_split(X, y10, random_state=0)\n",
    "\n",
    "# Generate a random binary classification problem.\n",
    "svm_model = SVC()\n",
    "\n",
    "# Fit a SVM moel.\n",
    "svm_model.fit(X, y10)\n",
    "\n",
    "\n",
    "# make prediction\n",
    "y10_pred = svm_model.predict(X) \n",
    "\n",
    "# compute accuracy and print it\n",
    "accuracy = accuracy_score(y10, y10_pred) \n",
    "print(\"Accuracy : \", accuracy)\n"
   ]
  },
  {
   "cell_type": "code",
   "execution_count": 33,
   "metadata": {},
   "outputs": [
    {
     "name": "stdout",
     "output_type": "stream",
     "text": [
      "[[387   0]\n",
      " [ 38   0]]\n"
     ]
    },
    {
     "data": {
      "image/png": "[encoded data removed]",
      "text/plain": [
       "<Figure size 432x288 with 2 Axes>"
      ]
     },
     "metadata": {
      "needs_background": "light"
     },
     "output_type": "display_data"
    }
   ],
   "source": [
    "class_names = [\"Class 0\", \"Class 1\"]\n",
    "# fit a SVM classifier using the training sub-set\n",
    "classifier = SVC().fit(X_train, y10_train)\n",
    "\n",
    "# plot the confusion matrix for the test sub-set\n",
    "disp = plot_confusion_matrix(classifier, X_test, y10_test, display_labels=class_names)\n",
    "plt.title(\"SVM Classifier of Relapse of the myocardial infarction\")\n",
    "\n",
    "print(disp.confusion_matrix)"
   ]
  },
  {
   "cell_type": "code",
   "execution_count": 34,
   "metadata": {},
   "outputs": [
    {
     "name": "stdout",
     "output_type": "stream",
     "text": [
      "Accuracy :  0.9129411764705883\n"
     ]
    }
   ],
   "source": [
    "# Post-infarction angina SVM\n",
    "# assigning a dependent variable for output: Post-infarction angina\n",
    "y11 = df1.iloc[:, 107]\n",
    "\n",
    "#training the variables \n",
    "X_train, X_test, y11_train, y11_test = train_test_split(X, y11, random_state=0)\n",
    "\n",
    "# Generate a random binary classification problem.\n",
    "svm_model = SVC()\n",
    "\n",
    "# Fit a SVM moel.\n",
    "svm_model.fit(X, y11)\n",
    "\n",
    "\n",
    "# make prediction\n",
    "y11_pred = svm_model.predict(X) \n",
    "\n",
    "# compute accuracy and print it\n",
    "accuracy = accuracy_score(y11, y11_pred) \n",
    "print(\"Accuracy : \", accuracy)\n"
   ]
  },
  {
   "cell_type": "code",
   "execution_count": 35,
   "metadata": {},
   "outputs": [
    {
     "name": "stdout",
     "output_type": "stream",
     "text": [
      "[[382   0]\n",
      " [ 43   0]]\n"
     ]
    },
    {
     "data": {
      "image/png": "[encoded data removed]",
      "text/plain": [
       "<Figure size 432x288 with 2 Axes>"
      ]
     },
     "metadata": {
      "needs_background": "light"
     },
     "output_type": "display_data"
    }
   ],
   "source": [
    "class_names = [\"Class 0\", \"Class 1\"]\n",
    "# fit a SVM classifier using the training sub-set\n",
    "classifier = SVC().fit(X_train, y11_train)\n",
    "\n",
    "# plot the confusion matrix for the test sub-set\n",
    "disp = plot_confusion_matrix(classifier, X_test, y11_test, display_labels=class_names)\n",
    "plt.title(\"SVM Classifier of Post-infarction angina\")\n",
    "\n",
    "print(disp.confusion_matrix)\n",
    "\n"
   ]
  },
  {
   "cell_type": "code",
   "execution_count": 36,
   "metadata": {},
   "outputs": [
    {
     "name": "stdout",
     "output_type": "stream",
     "text": [
      "Accuracy :  0.8405882352941176\n"
     ]
    }
   ],
   "source": [
    "# Lethal outcome SVM \n",
    "# assigning a dependent variable for output: Atrial fibrillation\n",
    "y12 = df1.iloc[:, 108]\n",
    "\n",
    "#training the variables \n",
    "X_train, X_test, y12_train, y12_test = train_test_split(X, y12, random_state=0)\n",
    "\n",
    "# Generate a random binary classification problem.\n",
    "svm_model = SVC()\n",
    "\n",
    "# Fit a SVM moel.\n",
    "svm_model.fit(X, y12)\n",
    "\n",
    "\n",
    "# make prediction\n",
    "y12_pred = svm_model.predict(X) \n",
    "\n",
    "# compute accuracy and print it\n",
    "accuracy = accuracy_score(y12, y12_pred) \n",
    "print(\"Accuracy : \", accuracy)\n"
   ]
  },
  {
   "cell_type": "code",
   "execution_count": 37,
   "metadata": {},
   "outputs": [
    {
     "ename": "ValueError",
     "evalue": "The number of FixedLocator locations (8), usually from a call to set_ticks, does not match the number of ticklabels (2).",
     "output_type": "error",
     "traceback": [
      "\u001b[0;31m---------------------------------------------------------------------------\u001b[0m",
      "\u001b[0;31mValueError\u001b[0m                                Traceback (most recent call last)",
      "\u001b[0;32m<ipython-input-37-e031cd0a21e5>\u001b[0m in \u001b[0;36m<module>\u001b[0;34m\u001b[0m\n\u001b[1;32m      4\u001b[0m \u001b[0;34m\u001b[0m\u001b[0m\n\u001b[1;32m      5\u001b[0m \u001b[0;31m# plot the confusion matrix for the test sub-set\u001b[0m\u001b[0;34m\u001b[0m\u001b[0;34m\u001b[0m\u001b[0;34m\u001b[0m\u001b[0m\n\u001b[0;32m----> 6\u001b[0;31m \u001b[0mdisp\u001b[0m \u001b[0;34m=\u001b[0m \u001b[0mplot_confusion_matrix\u001b[0m\u001b[0;34m(\u001b[0m\u001b[0mclassifier\u001b[0m\u001b[0;34m,\u001b[0m \u001b[0mX_test\u001b[0m\u001b[0;34m,\u001b[0m \u001b[0my12_test\u001b[0m\u001b[0;34m,\u001b[0m \u001b[0mdisplay_labels\u001b[0m\u001b[0;34m=\u001b[0m\u001b[0mclass_names\u001b[0m\u001b[0;34m)\u001b[0m\u001b[0;34m\u001b[0m\u001b[0;34m\u001b[0m\u001b[0m\n\u001b[0m\u001b[1;32m      7\u001b[0m \u001b[0mplt\u001b[0m\u001b[0;34m.\u001b[0m\u001b[0mtitle\u001b[0m\u001b[0;34m(\u001b[0m\u001b[0;34m\"SVM Classifier of Atrial fibrillation\"\u001b[0m\u001b[0;34m)\u001b[0m\u001b[0;34m\u001b[0m\u001b[0;34m\u001b[0m\u001b[0m\n\u001b[1;32m      8\u001b[0m \u001b[0;34m\u001b[0m\u001b[0m\n",
      "\u001b[0;32m/opt/jupyterhub/pyvenv/lib/python3.6/site-packages/sklearn/utils/validation.py\u001b[0m in \u001b[0;36minner_f\u001b[0;34m(*args, **kwargs)\u001b[0m\n\u001b[1;32m     61\u001b[0m             \u001b[0mextra_args\u001b[0m \u001b[0;34m=\u001b[0m \u001b[0mlen\u001b[0m\u001b[0;34m(\u001b[0m\u001b[0margs\u001b[0m\u001b[0;34m)\u001b[0m \u001b[0;34m-\u001b[0m \u001b[0mlen\u001b[0m\u001b[0;34m(\u001b[0m\u001b[0mall_args\u001b[0m\u001b[0;34m)\u001b[0m\u001b[0;34m\u001b[0m\u001b[0;34m\u001b[0m\u001b[0m\n\u001b[1;32m     62\u001b[0m             \u001b[0;32mif\u001b[0m \u001b[0mextra_args\u001b[0m \u001b[0;34m<=\u001b[0m \u001b[0;36m0\u001b[0m\u001b[0;34m:\u001b[0m\u001b[0;34m\u001b[0m\u001b[0;34m\u001b[0m\u001b[0m\n\u001b[0;32m---> 63\u001b[0;31m                 \u001b[0;32mreturn\u001b[0m \u001b[0mf\u001b[0m\u001b[0;34m(\u001b[0m\u001b[0;34m*\u001b[0m\u001b[0margs\u001b[0m\u001b[0;34m,\u001b[0m \u001b[0;34m**\u001b[0m\u001b[0mkwargs\u001b[0m\u001b[0;34m)\u001b[0m\u001b[0;34m\u001b[0m\u001b[0;34m\u001b[0m\u001b[0m\n\u001b[0m\u001b[1;32m     64\u001b[0m \u001b[0;34m\u001b[0m\u001b[0m\n\u001b[1;32m     65\u001b[0m             \u001b[0;31m# extra_args > 0\u001b[0m\u001b[0;34m\u001b[0m\u001b[0;34m\u001b[0m\u001b[0;34m\u001b[0m\u001b[0m\n",
      "\u001b[0;32m/opt/jupyterhub/pyvenv/lib/python3.6/site-packages/sklearn/metrics/_plot/confusion_matrix.py\u001b[0m in \u001b[0;36mplot_confusion_matrix\u001b[0;34m(estimator, X, y_true, labels, sample_weight, normalize, display_labels, include_values, xticks_rotation, values_format, cmap, ax, colorbar)\u001b[0m\n\u001b[1;32m    275\u001b[0m     return disp.plot(include_values=include_values,\n\u001b[1;32m    276\u001b[0m                      \u001b[0mcmap\u001b[0m\u001b[0;34m=\u001b[0m\u001b[0mcmap\u001b[0m\u001b[0;34m,\u001b[0m \u001b[0max\u001b[0m\u001b[0;34m=\u001b[0m\u001b[0max\u001b[0m\u001b[0;34m,\u001b[0m \u001b[0mxticks_rotation\u001b[0m\u001b[0;34m=\u001b[0m\u001b[0mxticks_rotation\u001b[0m\u001b[0;34m,\u001b[0m\u001b[0;34m\u001b[0m\u001b[0;34m\u001b[0m\u001b[0m\n\u001b[0;32m--> 277\u001b[0;31m                      values_format=values_format, colorbar=colorbar)\n\u001b[0m",
      "\u001b[0;32m/opt/jupyterhub/pyvenv/lib/python3.6/site-packages/sklearn/utils/validation.py\u001b[0m in \u001b[0;36minner_f\u001b[0;34m(*args, **kwargs)\u001b[0m\n\u001b[1;32m     61\u001b[0m             \u001b[0mextra_args\u001b[0m \u001b[0;34m=\u001b[0m \u001b[0mlen\u001b[0m\u001b[0;34m(\u001b[0m\u001b[0margs\u001b[0m\u001b[0;34m)\u001b[0m \u001b[0;34m-\u001b[0m \u001b[0mlen\u001b[0m\u001b[0;34m(\u001b[0m\u001b[0mall_args\u001b[0m\u001b[0;34m)\u001b[0m\u001b[0;34m\u001b[0m\u001b[0;34m\u001b[0m\u001b[0m\n\u001b[1;32m     62\u001b[0m             \u001b[0;32mif\u001b[0m \u001b[0mextra_args\u001b[0m \u001b[0;34m<=\u001b[0m \u001b[0;36m0\u001b[0m\u001b[0;34m:\u001b[0m\u001b[0;34m\u001b[0m\u001b[0;34m\u001b[0m\u001b[0m\n\u001b[0;32m---> 63\u001b[0;31m                 \u001b[0;32mreturn\u001b[0m \u001b[0mf\u001b[0m\u001b[0;34m(\u001b[0m\u001b[0;34m*\u001b[0m\u001b[0margs\u001b[0m\u001b[0;34m,\u001b[0m \u001b[0;34m**\u001b[0m\u001b[0mkwargs\u001b[0m\u001b[0;34m)\u001b[0m\u001b[0;34m\u001b[0m\u001b[0;34m\u001b[0m\u001b[0m\n\u001b[0m\u001b[1;32m     64\u001b[0m \u001b[0;34m\u001b[0m\u001b[0m\n\u001b[1;32m     65\u001b[0m             \u001b[0;31m# extra_args > 0\u001b[0m\u001b[0;34m\u001b[0m\u001b[0;34m\u001b[0m\u001b[0;34m\u001b[0m\u001b[0m\n",
      "\u001b[0;32m/opt/jupyterhub/pyvenv/lib/python3.6/site-packages/sklearn/metrics/_plot/confusion_matrix.py\u001b[0m in \u001b[0;36mplot\u001b[0;34m(self, include_values, cmap, xticks_rotation, values_format, ax, colorbar)\u001b[0m\n\u001b[1;32m    156\u001b[0m                \u001b[0myticklabels\u001b[0m\u001b[0;34m=\u001b[0m\u001b[0mdisplay_labels\u001b[0m\u001b[0;34m,\u001b[0m\u001b[0;34m\u001b[0m\u001b[0;34m\u001b[0m\u001b[0m\n\u001b[1;32m    157\u001b[0m                \u001b[0mylabel\u001b[0m\u001b[0;34m=\u001b[0m\u001b[0;34m\"True label\"\u001b[0m\u001b[0;34m,\u001b[0m\u001b[0;34m\u001b[0m\u001b[0;34m\u001b[0m\u001b[0m\n\u001b[0;32m--> 158\u001b[0;31m                xlabel=\"Predicted label\")\n\u001b[0m\u001b[1;32m    159\u001b[0m \u001b[0;34m\u001b[0m\u001b[0m\n\u001b[1;32m    160\u001b[0m         \u001b[0max\u001b[0m\u001b[0;34m.\u001b[0m\u001b[0mset_ylim\u001b[0m\u001b[0;34m(\u001b[0m\u001b[0;34m(\u001b[0m\u001b[0mn_classes\u001b[0m \u001b[0;34m-\u001b[0m \u001b[0;36m0.5\u001b[0m\u001b[0;34m,\u001b[0m \u001b[0;34m-\u001b[0m\u001b[0;36m0.5\u001b[0m\u001b[0;34m)\u001b[0m\u001b[0;34m)\u001b[0m\u001b[0;34m\u001b[0m\u001b[0;34m\u001b[0m\u001b[0m\n",
      "\u001b[0;32m/opt/jupyterhub/pyvenv/lib/python3.6/site-packages/matplotlib/artist.py\u001b[0m in \u001b[0;36mset\u001b[0;34m(self, **kwargs)\u001b[0m\n\u001b[1;32m   1111\u001b[0m         \u001b[0;32mif\u001b[0m \u001b[0mmove_color_to_start\u001b[0m\u001b[0;34m:\u001b[0m\u001b[0;34m\u001b[0m\u001b[0;34m\u001b[0m\u001b[0m\n\u001b[1;32m   1112\u001b[0m             \u001b[0mkwargs\u001b[0m \u001b[0;34m=\u001b[0m \u001b[0;34m{\u001b[0m\u001b[0;34m\"color\"\u001b[0m\u001b[0;34m:\u001b[0m \u001b[0mkwargs\u001b[0m\u001b[0;34m.\u001b[0m\u001b[0mpop\u001b[0m\u001b[0;34m(\u001b[0m\u001b[0;34m\"color\"\u001b[0m\u001b[0;34m)\u001b[0m\u001b[0;34m,\u001b[0m \u001b[0;34m**\u001b[0m\u001b[0mkwargs\u001b[0m\u001b[0;34m}\u001b[0m\u001b[0;34m\u001b[0m\u001b[0;34m\u001b[0m\u001b[0m\n\u001b[0;32m-> 1113\u001b[0;31m         \u001b[0;32mreturn\u001b[0m \u001b[0mself\u001b[0m\u001b[0;34m.\u001b[0m\u001b[0mupdate\u001b[0m\u001b[0;34m(\u001b[0m\u001b[0mkwargs\u001b[0m\u001b[0;34m)\u001b[0m\u001b[0;34m\u001b[0m\u001b[0;34m\u001b[0m\u001b[0m\n\u001b[0m\u001b[1;32m   1114\u001b[0m \u001b[0;34m\u001b[0m\u001b[0m\n\u001b[1;32m   1115\u001b[0m     \u001b[0;32mdef\u001b[0m \u001b[0mfindobj\u001b[0m\u001b[0;34m(\u001b[0m\u001b[0mself\u001b[0m\u001b[0;34m,\u001b[0m \u001b[0mmatch\u001b[0m\u001b[0;34m=\u001b[0m\u001b[0;32mNone\u001b[0m\u001b[0;34m,\u001b[0m \u001b[0minclude_self\u001b[0m\u001b[0;34m=\u001b[0m\u001b[0;32mTrue\u001b[0m\u001b[0;34m)\u001b[0m\u001b[0;34m:\u001b[0m\u001b[0;34m\u001b[0m\u001b[0;34m\u001b[0m\u001b[0m\n",
      "\u001b[0;32m/opt/jupyterhub/pyvenv/lib/python3.6/site-packages/matplotlib/artist.py\u001b[0m in \u001b[0;36mupdate\u001b[0;34m(self, props)\u001b[0m\n\u001b[1;32m    996\u001b[0m                         raise AttributeError(f\"{type(self).__name__!r} object \"\n\u001b[1;32m    997\u001b[0m                                              f\"has no property {k!r}\")\n\u001b[0;32m--> 998\u001b[0;31m                     \u001b[0mret\u001b[0m\u001b[0;34m.\u001b[0m\u001b[0mappend\u001b[0m\u001b[0;34m(\u001b[0m\u001b[0mfunc\u001b[0m\u001b[0;34m(\u001b[0m\u001b[0mv\u001b[0m\u001b[0;34m)\u001b[0m\u001b[0;34m)\u001b[0m\u001b[0;34m\u001b[0m\u001b[0;34m\u001b[0m\u001b[0m\n\u001b[0m\u001b[1;32m    999\u001b[0m         \u001b[0;32mif\u001b[0m \u001b[0mret\u001b[0m\u001b[0;34m:\u001b[0m\u001b[0;34m\u001b[0m\u001b[0;34m\u001b[0m\u001b[0m\n\u001b[1;32m   1000\u001b[0m             \u001b[0mself\u001b[0m\u001b[0;34m.\u001b[0m\u001b[0mpchanged\u001b[0m\u001b[0;34m(\u001b[0m\u001b[0;34m)\u001b[0m\u001b[0;34m\u001b[0m\u001b[0;34m\u001b[0m\u001b[0m\n",
      "\u001b[0;32m/opt/jupyterhub/pyvenv/lib/python3.6/site-packages/matplotlib/axes/_base.py\u001b[0m in \u001b[0;36mwrapper\u001b[0;34m(self, *args, **kwargs)\u001b[0m\n\u001b[1;32m     61\u001b[0m \u001b[0;34m\u001b[0m\u001b[0m\n\u001b[1;32m     62\u001b[0m         \u001b[0;32mdef\u001b[0m \u001b[0mwrapper\u001b[0m\u001b[0;34m(\u001b[0m\u001b[0mself\u001b[0m\u001b[0;34m,\u001b[0m \u001b[0;34m*\u001b[0m\u001b[0margs\u001b[0m\u001b[0;34m,\u001b[0m \u001b[0;34m**\u001b[0m\u001b[0mkwargs\u001b[0m\u001b[0;34m)\u001b[0m\u001b[0;34m:\u001b[0m\u001b[0;34m\u001b[0m\u001b[0;34m\u001b[0m\u001b[0m\n\u001b[0;32m---> 63\u001b[0;31m             \u001b[0;32mreturn\u001b[0m \u001b[0mget_method\u001b[0m\u001b[0;34m(\u001b[0m\u001b[0mself\u001b[0m\u001b[0;34m)\u001b[0m\u001b[0;34m(\u001b[0m\u001b[0;34m*\u001b[0m\u001b[0margs\u001b[0m\u001b[0;34m,\u001b[0m \u001b[0;34m**\u001b[0m\u001b[0mkwargs\u001b[0m\u001b[0;34m)\u001b[0m\u001b[0;34m\u001b[0m\u001b[0;34m\u001b[0m\u001b[0m\n\u001b[0m\u001b[1;32m     64\u001b[0m \u001b[0;34m\u001b[0m\u001b[0m\n\u001b[1;32m     65\u001b[0m         \u001b[0mwrapper\u001b[0m\u001b[0;34m.\u001b[0m\u001b[0m__module__\u001b[0m \u001b[0;34m=\u001b[0m \u001b[0mowner\u001b[0m\u001b[0;34m.\u001b[0m\u001b[0m__module__\u001b[0m\u001b[0;34m\u001b[0m\u001b[0;34m\u001b[0m\u001b[0m\n",
      "\u001b[0;32m/opt/jupyterhub/pyvenv/lib/python3.6/site-packages/matplotlib/cbook/deprecation.py\u001b[0m in \u001b[0;36mwrapper\u001b[0;34m(*args, **kwargs)\u001b[0m\n\u001b[1;32m    449\u001b[0m                 \u001b[0;34m\"parameter will become keyword-only %(removal)s.\"\u001b[0m\u001b[0;34m,\u001b[0m\u001b[0;34m\u001b[0m\u001b[0;34m\u001b[0m\u001b[0m\n\u001b[1;32m    450\u001b[0m                 name=name, obj_type=f\"parameter of {func.__name__}()\")\n\u001b[0;32m--> 451\u001b[0;31m         \u001b[0;32mreturn\u001b[0m \u001b[0mfunc\u001b[0m\u001b[0;34m(\u001b[0m\u001b[0;34m*\u001b[0m\u001b[0margs\u001b[0m\u001b[0;34m,\u001b[0m \u001b[0;34m**\u001b[0m\u001b[0mkwargs\u001b[0m\u001b[0;34m)\u001b[0m\u001b[0;34m\u001b[0m\u001b[0;34m\u001b[0m\u001b[0m\n\u001b[0m\u001b[1;32m    452\u001b[0m \u001b[0;34m\u001b[0m\u001b[0m\n\u001b[1;32m    453\u001b[0m     \u001b[0;32mreturn\u001b[0m \u001b[0mwrapper\u001b[0m\u001b[0;34m\u001b[0m\u001b[0;34m\u001b[0m\u001b[0m\n",
      "\u001b[0;32m/opt/jupyterhub/pyvenv/lib/python3.6/site-packages/matplotlib/axis.py\u001b[0m in \u001b[0;36m_set_ticklabels\u001b[0;34m(self, labels, fontdict, minor, **kwargs)\u001b[0m\n\u001b[1;32m   1794\u001b[0m         \u001b[0;32mif\u001b[0m \u001b[0mfontdict\u001b[0m \u001b[0;32mis\u001b[0m \u001b[0;32mnot\u001b[0m \u001b[0;32mNone\u001b[0m\u001b[0;34m:\u001b[0m\u001b[0;34m\u001b[0m\u001b[0;34m\u001b[0m\u001b[0m\n\u001b[1;32m   1795\u001b[0m             \u001b[0mkwargs\u001b[0m\u001b[0;34m.\u001b[0m\u001b[0mupdate\u001b[0m\u001b[0;34m(\u001b[0m\u001b[0mfontdict\u001b[0m\u001b[0;34m)\u001b[0m\u001b[0;34m\u001b[0m\u001b[0;34m\u001b[0m\u001b[0m\n\u001b[0;32m-> 1796\u001b[0;31m         \u001b[0;32mreturn\u001b[0m \u001b[0mself\u001b[0m\u001b[0;34m.\u001b[0m\u001b[0mset_ticklabels\u001b[0m\u001b[0;34m(\u001b[0m\u001b[0mlabels\u001b[0m\u001b[0;34m,\u001b[0m \u001b[0mminor\u001b[0m\u001b[0;34m=\u001b[0m\u001b[0mminor\u001b[0m\u001b[0;34m,\u001b[0m \u001b[0;34m**\u001b[0m\u001b[0mkwargs\u001b[0m\u001b[0;34m)\u001b[0m\u001b[0;34m\u001b[0m\u001b[0;34m\u001b[0m\u001b[0m\n\u001b[0m\u001b[1;32m   1797\u001b[0m \u001b[0;34m\u001b[0m\u001b[0m\n\u001b[1;32m   1798\u001b[0m     \u001b[0;34m@\u001b[0m\u001b[0mcbook\u001b[0m\u001b[0;34m.\u001b[0m\u001b[0m_make_keyword_only\u001b[0m\u001b[0;34m(\u001b[0m\u001b[0;34m\"3.2\"\u001b[0m\u001b[0;34m,\u001b[0m \u001b[0;34m\"minor\"\u001b[0m\u001b[0;34m)\u001b[0m\u001b[0;34m\u001b[0m\u001b[0;34m\u001b[0m\u001b[0m\n",
      "\u001b[0;32m/opt/jupyterhub/pyvenv/lib/python3.6/site-packages/matplotlib/axis.py\u001b[0m in \u001b[0;36mset_ticklabels\u001b[0;34m(self, ticklabels, minor, **kwargs)\u001b[0m\n\u001b[1;32m   1716\u001b[0m             \u001b[0;32mif\u001b[0m \u001b[0mlen\u001b[0m\u001b[0;34m(\u001b[0m\u001b[0mlocator\u001b[0m\u001b[0;34m.\u001b[0m\u001b[0mlocs\u001b[0m\u001b[0;34m)\u001b[0m \u001b[0;34m!=\u001b[0m \u001b[0mlen\u001b[0m\u001b[0;34m(\u001b[0m\u001b[0mticklabels\u001b[0m\u001b[0;34m)\u001b[0m \u001b[0;32mand\u001b[0m \u001b[0mlen\u001b[0m\u001b[0;34m(\u001b[0m\u001b[0mticklabels\u001b[0m\u001b[0;34m)\u001b[0m \u001b[0;34m!=\u001b[0m \u001b[0;36m0\u001b[0m\u001b[0;34m:\u001b[0m\u001b[0;34m\u001b[0m\u001b[0;34m\u001b[0m\u001b[0m\n\u001b[1;32m   1717\u001b[0m                 raise ValueError(\n\u001b[0;32m-> 1718\u001b[0;31m                     \u001b[0;34m\"The number of FixedLocator locations\"\u001b[0m\u001b[0;34m\u001b[0m\u001b[0;34m\u001b[0m\u001b[0m\n\u001b[0m\u001b[1;32m   1719\u001b[0m                     \u001b[0;34mf\" ({len(locator.locs)}), usually from a call to\"\u001b[0m\u001b[0;34m\u001b[0m\u001b[0;34m\u001b[0m\u001b[0m\n\u001b[1;32m   1720\u001b[0m                     \u001b[0;34m\" set_ticks, does not match\"\u001b[0m\u001b[0;34m\u001b[0m\u001b[0;34m\u001b[0m\u001b[0m\n",
      "\u001b[0;31mValueError\u001b[0m: The number of FixedLocator locations (8), usually from a call to set_ticks, does not match the number of ticklabels (2)."
     ]
    },
    {
     "data": {
      "image/png": "[encoded data removed]",
      "text/plain": [
       "<Figure size 432x288 with 2 Axes>"
      ]
     },
     "metadata": {
      "needs_background": "light"
     },
     "output_type": "display_data"
    }
   ],
   "source": [
    "class_names = [\"Class 0\", \"Class 1\"]\n",
    "# fit a SVM classifier using the training sub-set\n",
    "classifier = SVC().fit(X_train, y12_train)\n",
    "\n",
    "# plot the confusion matrix for the test sub-set\n",
    "disp = plot_confusion_matrix(classifier, X_test, y12_test, display_labels=class_names)\n",
    "plt.title(\"SVM Classifier of Atrial fibrillation\")\n",
    "\n",
    "print(disp.confusion_matrix)"
   ]
  },
  {
   "cell_type": "code",
   "execution_count": null,
   "metadata": {},
   "outputs": [],
   "source": []
  }
 ],
 "metadata": {
  "kernelspec": {
   "display_name": "Python 3",
   "language": "python",
   "name": "python3"
  },
  "language_info": {
   "codemirror_mode": {
    "name": "ipython",
    "version": 3
   },
   "file_extension": ".py",
   "mimetype": "text/x-python",
   "name": "python",
   "nbconvert_exporter": "python",
   "pygments_lexer": "ipython3",
   "version": "3.6.9"
  }
 },
 "nbformat": 4,
 "nbformat_minor": 4
}
